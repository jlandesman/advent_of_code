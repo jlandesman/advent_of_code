{
 "cells": [
  {
   "cell_type": "code",
   "execution_count": 21,
   "metadata": {
    "collapsed": true
   },
   "outputs": [],
   "source": [
    "import numpy as np"
   ]
  },
  {
   "cell_type": "markdown",
   "metadata": {},
   "source": [
    "## Observe the distance to the center of the spiral matrix has a peculiar structure "
   ]
  },
  {
   "cell_type": "markdown",
   "metadata": {},
   "source": [
    " - The diagnols to the bottom left are the squares of odd numbers in sequential order. \n",
    " - The distance to the center follows a pattern from the corners of decreasing until it reaches col_width/2, then increases\n",
    " - The length of the column from the corner of the square beginning with n^2 (where n is an odd number) is n.  The value at the end of that column is (n-2)^2 + (n-1).  So for the \"5\" loop, the column that ends in 25 begins with (5-2)^2 + 4 = 13. \n",
    " - The distance from any corner to the center (1) is n-1."
   ]
  },
  {
   "cell_type": "code",
   "execution_count": 22,
   "metadata": {
    "collapsed": false
   },
   "outputs": [
    {
     "data": {
      "text/plain": [
       "matrix([[17, 16, 15, 14, 13],\n",
       "        [18,  5,  4,  3, 12],\n",
       "        [19,  6,  1,  2, 11],\n",
       "        [20,  7,  8,  9, 10],\n",
       "        [21, 22, 23, 24, 25]])"
      ]
     },
     "execution_count": 22,
     "metadata": {},
     "output_type": "execute_result"
    }
   ],
   "source": [
    "np.matrix([[17, 16, 15, 14, 13], [18, 5, 4, 3, 12], [19, 6, 1, 2, 11], [20, 7, 8, 9, 10], [21, 22, 23, 24, 25]])"
   ]
  },
  {
   "cell_type": "markdown",
   "metadata": {},
   "source": [
    " - The number we are targeting is 265,149, which is in between 513^2 and 515^2\n",
    " - 515^2 - 265,149 = 76, which is less than halfway to of the length of the column (length of the column = 515) This means that the distance to the center is still decreasing\n",
    " - The distance from 515^2 to the center is 514.  This number keeps decreasing until we hit our target, which is 76 below.  The solution is 514 - 76 = 438"
   ]
  },
  {
   "cell_type": "code",
   "execution_count": 24,
   "metadata": {
    "collapsed": false
   },
   "outputs": [
    {
     "data": {
      "text/plain": [
       "438"
      ]
     },
     "execution_count": 24,
     "metadata": {},
     "output_type": "execute_result"
    }
   ],
   "source": [
    "514-76"
   ]
  }
 ],
 "metadata": {
  "anaconda-cloud": {},
  "kernelspec": {
   "display_name": "Python [default]",
   "language": "python",
   "name": "python3"
  },
  "language_info": {
   "codemirror_mode": {
    "name": "ipython",
    "version": 3
   },
   "file_extension": ".py",
   "mimetype": "text/x-python",
   "name": "python",
   "nbconvert_exporter": "python",
   "pygments_lexer": "ipython3",
   "version": "3.5.2"
  }
 },
 "nbformat": 4,
 "nbformat_minor": 1
}
